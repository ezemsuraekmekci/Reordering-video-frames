{
 "cells": [
  {
   "cell_type": "code",
   "execution_count": 1,
   "id": "5ef805c5",
   "metadata": {},
   "outputs": [],
   "source": [
    "import torch\n",
    "import cv2\n",
    "import numpy as np\n",
    "import matplotlib.pyplot as plt\n",
    "\n",
    "from PIL import Image\n",
    "from torchvision import models, transforms\n",
    "from utils import FeatureExtractor, prepare_frame_for_inference, get_feature_vector\n",
    "from utils import imshow_frame, cos, compute_similarity, compute_similarity_index_known"
   ]
  },
  {
   "cell_type": "code",
   "execution_count": 2,
   "id": "0eb7fb61",
   "metadata": {},
   "outputs": [
    {
     "name": "stdout",
     "output_type": "stream",
     "text": [
      "Number of captured frames: 114\n"
     ]
    }
   ],
   "source": [
    "video_path = 'path_of_corrupted_video'\n",
    "video_frames = []\n",
    "\n",
    "capture = cv2.VideoCapture(video_path)\n",
    "while capture.isOpened():\n",
    "    ret, frame = capture.read()\n",
    "    if ret:\n",
    "        rgb_frame = cv2.cvtColor(frame, cv2.COLOR_BGR2RGB)\n",
    "        video_frames.append(rgb_frame)\n",
    "    else:\n",
    "        break\n",
    "capture.release()\n",
    "print(\"Number of captured frames:\", len(video_frames))"
   ]
  },
  {
   "cell_type": "code",
   "execution_count": 3,
   "id": "2f33d380",
   "metadata": {},
   "outputs": [],
   "source": [
    "# Define the transformer to prepare images to be acceptable by model\n",
    "transform = transforms.Compose([\n",
    "    transforms.Resize(size = 256),\n",
    "    transforms.CenterCrop(size = 224),\n",
    "    transforms.ToTensor(),\n",
    "    transforms.Normalize([0.485, 0.456, 0.406], [0.229, 0.224, 0.225])\n",
    "    \n",
    "])\n",
    "\n",
    "# Check if cuda is avaible\n",
    "device = torch.device('cuda:0' if torch.cuda.is_available() else \"cpu\")\n",
    "\n",
    "base_model = models.vgg16(pretrained = True)\n",
    "model = FeatureExtractor(base_model)\n",
    "model = model.to(device)"
   ]
  },
  {
   "cell_type": "code",
   "execution_count": 4,
   "id": "abac6343",
   "metadata": {},
   "outputs": [],
   "source": [
    "anchor_img = prepare_frame_for_inference(video_frames[0], transform)\n",
    "anchor_feature_vec = get_feature_vector(anchor_img, device, model)"
   ]
  },
  {
   "cell_type": "code",
   "execution_count": 5,
   "id": "42bf29aa",
   "metadata": {},
   "outputs": [],
   "source": [
    "feature_list = list()\n",
    "feature_array = list()\n",
    "index = list()"
   ]
  },
  {
   "cell_type": "code",
   "execution_count": 6,
   "id": "5024aabf",
   "metadata": {},
   "outputs": [
    {
     "name": "stdout",
     "output_type": "stream",
     "text": [
      "Number of frames belong to originel video: 96\n"
     ]
    }
   ],
   "source": [
    "for i in range(1, len(video_frames)):\n",
    "    img_tensor = prepare_frame_for_inference(video_frames[i], transform)\n",
    "    feature_vec = get_feature_vector(img_tensor, device, model)\n",
    "    similarity = int(cos(anchor_feature_vec, feature_vec)*100)\n",
    "    if similarity >= 75:\n",
    "        feature_list.append(feature_vec)\n",
    "        feature_array.append(feature_vec.numpy().reshape(-1))\n",
    "        index.append(i)\n",
    "print(\"Number of frames belong to originel video:\", len(feature_array))"
   ]
  },
  {
   "cell_type": "code",
   "execution_count": 7,
   "id": "64eac967",
   "metadata": {},
   "outputs": [],
   "source": [
    "feature_list.append(anchor_feature_vec)\n",
    "feature_array.append(anchor_feature_vec.numpy().reshape(-1))\n",
    "index.append(0)"
   ]
  },
  {
   "cell_type": "code",
   "execution_count": 8,
   "id": "9f327dc4",
   "metadata": {},
   "outputs": [
    {
     "data": {
      "text/plain": [
       "97"
      ]
     },
     "execution_count": 8,
     "metadata": {},
     "output_type": "execute_result"
    }
   ],
   "source": [
    "matched_video_frames = []\n",
    "for i in range(len(index)):\n",
    "    matched_video_frames.append(video_frames[index[i]])\n",
    "#matched_video_frames.append(video_frames[0])\n",
    "len(matched_video_frames)"
   ]
  },
  {
   "cell_type": "code",
   "execution_count": 9,
   "id": "7cbab65a",
   "metadata": {},
   "outputs": [
    {
     "data": {
      "text/plain": [
       "torch.Size([1, 4096])"
      ]
     },
     "execution_count": 9,
     "metadata": {},
     "output_type": "execute_result"
    }
   ],
   "source": [
    "general_mean = torch.mean(torch.stack(feature_list), dim=0)\n",
    "general_mean.shape"
   ]
  },
  {
   "cell_type": "code",
   "execution_count": 10,
   "id": "7c609ece",
   "metadata": {},
   "outputs": [],
   "source": [
    "similarity_to_mean = compute_similarity(feature_list, general_mean, False)"
   ]
  },
  {
   "cell_type": "code",
   "execution_count": 11,
   "id": "b1fe1df3",
   "metadata": {},
   "outputs": [],
   "source": [
    "edge_index = similarity_to_mean[0][1]"
   ]
  },
  {
   "cell_type": "code",
   "execution_count": 12,
   "id": "d5c20493",
   "metadata": {},
   "outputs": [],
   "source": [
    "similarity_list = compute_similarity(feature_list, feature_list[edge_index])"
   ]
  },
  {
   "cell_type": "code",
   "execution_count": 13,
   "id": "04e48759",
   "metadata": {},
   "outputs": [],
   "source": [
    "similarity_list_temp = similarity_list.copy()"
   ]
  },
  {
   "cell_type": "code",
   "execution_count": 14,
   "id": "695e7dc0",
   "metadata": {},
   "outputs": [],
   "source": [
    "keep_index = list()"
   ]
  },
  {
   "cell_type": "code",
   "execution_count": 15,
   "id": "2497e3fc",
   "metadata": {},
   "outputs": [],
   "source": [
    "div = 5\n",
    "stop = True\n",
    "while stop:\n",
    "    if len(similarity_list_temp)<div:\n",
    "        div = len(similarity_list_temp)\n",
    "        stop = False\n",
    "    for i in range(div):\n",
    "        keep_index.append(similarity_list_temp[i][1])\n",
    "    for i in range(div)[::-1]:\n",
    "        similarity_list_temp.pop(i)\n",
    "    if stop:\n",
    "        edge_index = similarity_list_temp[0][1]\n",
    "        similarity_list_temp = compute_similarity_index_known(feature_list, similarity_list_temp, feature_list[edge_index])    "
   ]
  },
  {
   "cell_type": "code",
   "execution_count": 16,
   "id": "fc50f3f7",
   "metadata": {},
   "outputs": [],
   "source": [
    "height, width, layers = matched_video_frames[0].shape\n",
    "size = (width,height)\n",
    "\n",
    "out = cv2.VideoWriter('videos/restored.mp4',cv2.VideoWriter_fourcc(*'DIVX'), 20, size)\n",
    "\n",
    "for i in keep_index:\n",
    "    img = matched_video_frames[i]\n",
    "    rgb_img = cv2.cvtColor(img, cv2.COLOR_BGR2RGB)\n",
    "    out.write(rgb_img)\n",
    "\n",
    "out.release()"
   ]
  },
  {
   "cell_type": "code",
   "execution_count": 17,
   "id": "55277149",
   "metadata": {},
   "outputs": [],
   "source": [
    "out_reverse = cv2.VideoWriter('videos/restored_reverse.mp4',cv2.VideoWriter_fourcc(*'DIVX'), 20, size)\n",
    "\n",
    "for i in keep_index[::-1]:\n",
    "    img = matched_video_frames[i]\n",
    "    rgb_img = cv2.cvtColor(img, cv2.COLOR_BGR2RGB)\n",
    "    out_reverse.write(rgb_img)\n",
    "\n",
    "out_reverse.release()"
   ]
  },
  {
   "cell_type": "code",
   "execution_count": null,
   "id": "9fe5675e",
   "metadata": {},
   "outputs": [],
   "source": []
  }
 ],
 "metadata": {
  "kernelspec": {
   "display_name": "Python 3 (ipykernel)",
   "language": "python",
   "name": "python3"
  },
  "language_info": {
   "codemirror_mode": {
    "name": "ipython",
    "version": 3
   },
   "file_extension": ".py",
   "mimetype": "text/x-python",
   "name": "python",
   "nbconvert_exporter": "python",
   "pygments_lexer": "ipython3",
   "version": "3.7.13"
  }
 },
 "nbformat": 4,
 "nbformat_minor": 5
}
